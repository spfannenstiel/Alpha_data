{
 "cells": [
  {
   "cell_type": "code",
   "execution_count": null,
   "metadata": {},
   "outputs": [],
   "source": [
    "import numpy as np  # whole numpy lib is available, prepend 'np.'\n",
    "from numpy import average, std\n",
    "from numpy.random import random, randint, normal, shuffle,uniform\n",
    "import scipy\n",
    "from scipy.stats import ttest_ind\n",
    "import seaborn as sns\n",
    "import fnmatch\n",
    "import os  # handy system and path functions\n",
    "import sys  # to get file system encoding\n",
    "import csv\n",
    "from pandas import DataFrame, read_csv\n",
    "import matplotlib.pyplot as plt\n",
    "import pandas as pd  \n",
    "import matplotlib\n",
    "print('Python version ' + sys.version)\n",
    "print('Pandas version ' + pd.__version__)\n",
    "print('Matplotlib version ' + matplotlib.__version__)"
   ]
  },
  {
   "cell_type": "code",
   "execution_count": null,
   "metadata": {},
   "outputs": [],
   "source": [
    "subjects22=['256','258','259','260','262','263','265','266','267','268','269','270','271','272','273','274','275','276','277','278','279','280']\n",
    "all_subjects=[subjects22]\n",
    "where_files = r'Z:/AlphaStudy_Data/behavData/post_matching_brad/color_constant_and_extra_distractorSpatialCues/'\n",
    "#path to files\n",
    "files=os.listdir(where_files)"
   ]
  },
  {
   "cell_type": "code",
   "execution_count": null,
   "metadata": {},
   "outputs": [],
   "source": [
    "all_subs_dfs=[] # a list of dataframes\n",
    "all_subs_data=pd.DataFrame()\n",
    "for sub_list in all_subjects:\n",
    "    for sub_name in sub_list:\n",
    "        for f_name in files:\n",
    "            pattern='%s_alpha_singleton_ColorConstant_MATCHING_BRAD_extraDisCues_*_*_*_*_*.csv' %sub_name\n",
    "            if fnmatch.fnmatch(f_name,pattern):\n",
    "                print(f_name)\n",
    "                thisSub_data=pd.read_csv(where_files+f_name) #import subject data if filename matches pattern\n",
    "                thisSub_data['subject']=sub_name\n",
    "                all_subs_dfs.append(thisSub_data)\n",
    "                all_subs_data=all_subs_data.append(thisSub_data)"
   ]
  },
  {
   "cell_type": "code",
   "execution_count": null,
   "metadata": {
    "scrolled": true
   },
   "outputs": [],
   "source": [
    "all_subs_data"
   ]
  },
  {
   "cell_type": "code",
   "execution_count": null,
   "metadata": {},
   "outputs": [],
   "source": [
    "all_subs_data.sort_values('trialCorr?')"
   ]
  },
  {
   "cell_type": "code",
   "execution_count": null,
   "metadata": {
    "scrolled": true
   },
   "outputs": [],
   "source": [
    "all_subs_data_copy = all_subs_data.copy()\n",
    "all_subs_data_copy"
   ]
  },
  {
   "cell_type": "code",
   "execution_count": null,
   "metadata": {},
   "outputs": [],
   "source": [
    "all_subs_data_copy.sort_values('trialCorr?')"
   ]
  },
  {
   "cell_type": "code",
   "execution_count": null,
   "metadata": {
    "scrolled": true
   },
   "outputs": [],
   "source": [
    "all_subs_data.groupby(['trial_type','dis_PresentorAbsent'])['RT','trialCorr?'].mean()\n"
   ]
  },
  {
   "cell_type": "code",
   "execution_count": null,
   "metadata": {
    "scrolled": true
   },
   "outputs": [],
   "source": [
    "all_subs_dfs[0]"
   ]
  },
  {
   "cell_type": "code",
   "execution_count": null,
   "metadata": {},
   "outputs": [],
   "source": [
    "all_subs_dfs[0].groupby(['trial_type','dis_PresentorAbsent']).mean()"
   ]
  },
  {
   "cell_type": "code",
   "execution_count": null,
   "metadata": {},
   "outputs": [],
   "source": [
    "all_subs_dfs[0].groupby(['trial_type','dis_PresentorAbsent'])['RT','trialCorr?'].mean()"
   ]
  },
  {
   "cell_type": "code",
   "execution_count": null,
   "metadata": {
    "scrolled": false
   },
   "outputs": [],
   "source": [
    "gpby=all_subs_data.groupby(['subject','trial_type','dis_PresentorAbsent']).mean()\n",
    "#gpby.columns\n",
    "gpby"
   ]
  },
  {
   "cell_type": "code",
   "execution_count": null,
   "metadata": {},
   "outputs": [],
   "source": [
    "#Different trial types:\n",
    "#Neutral cue distractor present\n",
    "#Neutral cue distractor absent\n",
    "#Distractor cue distractor present, cue 100% valid\n",
    "#"
   ]
  }
 ],
 "metadata": {
  "kernelspec": {
   "display_name": "Python 3",
   "language": "python",
   "name": "python3"
  },
  "language_info": {
   "codemirror_mode": {
    "name": "ipython",
    "version": 3
   },
   "file_extension": ".py",
   "mimetype": "text/x-python",
   "name": "python",
   "nbconvert_exporter": "python",
   "pygments_lexer": "ipython3",
   "version": "3.8.3"
  }
 },
 "nbformat": 4,
 "nbformat_minor": 4
}
