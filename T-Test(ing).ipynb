{
 "cells": [
  {
   "cell_type": "code",
   "execution_count": 1,
   "metadata": {},
   "outputs": [],
   "source": [
    "import pandas as pd\n",
    "import numpy as np\n",
    "from scipy.stats import ttest_rel"
   ]
  },
  {
   "cell_type": "code",
   "execution_count": 2,
   "metadata": {},
   "outputs": [
    {
     "data": {
      "text/html": [
       "<div>\n",
       "<style scoped>\n",
       "    .dataframe tbody tr th:only-of-type {\n",
       "        vertical-align: middle;\n",
       "    }\n",
       "\n",
       "    .dataframe tbody tr th {\n",
       "        vertical-align: top;\n",
       "    }\n",
       "\n",
       "    .dataframe thead th {\n",
       "        text-align: right;\n",
       "    }\n",
       "</style>\n",
       "<table border=\"1\" class=\"dataframe\">\n",
       "  <thead>\n",
       "    <tr style=\"text-align: right;\">\n",
       "      <th></th>\n",
       "      <th>subject</th>\n",
       "      <th>trial_type</th>\n",
       "      <th>dis_PresentorAbsent</th>\n",
       "      <th>block</th>\n",
       "      <th>trialNum</th>\n",
       "      <th>trialCorr?</th>\n",
       "      <th>RT</th>\n",
       "      <th>ITI</th>\n",
       "      <th>triggers</th>\n",
       "    </tr>\n",
       "  </thead>\n",
       "  <tbody>\n",
       "    <tr>\n",
       "      <th>0</th>\n",
       "      <td>256.0</td>\n",
       "      <td>dis</td>\n",
       "      <td>Present</td>\n",
       "      <td>3.5</td>\n",
       "      <td>31.750000</td>\n",
       "      <td>0.882353</td>\n",
       "      <td>1.189781</td>\n",
       "      <td>2.037500</td>\n",
       "      <td>NaN</td>\n",
       "    </tr>\n",
       "    <tr>\n",
       "      <th>1</th>\n",
       "      <td>NaN</td>\n",
       "      <td>neut</td>\n",
       "      <td>Absent</td>\n",
       "      <td>3.5</td>\n",
       "      <td>31.527344</td>\n",
       "      <td>0.948819</td>\n",
       "      <td>1.100014</td>\n",
       "      <td>2.046875</td>\n",
       "      <td>NaN</td>\n",
       "    </tr>\n",
       "    <tr>\n",
       "      <th>2</th>\n",
       "      <td>NaN</td>\n",
       "      <td>neut</td>\n",
       "      <td>Present</td>\n",
       "      <td>3.5</td>\n",
       "      <td>30.640625</td>\n",
       "      <td>0.887097</td>\n",
       "      <td>1.305057</td>\n",
       "      <td>2.014063</td>\n",
       "      <td>NaN</td>\n",
       "    </tr>\n",
       "    <tr>\n",
       "      <th>3</th>\n",
       "      <td>258.0</td>\n",
       "      <td>dis</td>\n",
       "      <td>Present</td>\n",
       "      <td>3.5</td>\n",
       "      <td>30.859375</td>\n",
       "      <td>0.984211</td>\n",
       "      <td>1.044318</td>\n",
       "      <td>1.972917</td>\n",
       "      <td>NaN</td>\n",
       "    </tr>\n",
       "    <tr>\n",
       "      <th>4</th>\n",
       "      <td>NaN</td>\n",
       "      <td>neut</td>\n",
       "      <td>Absent</td>\n",
       "      <td>3.5</td>\n",
       "      <td>32.707031</td>\n",
       "      <td>0.984375</td>\n",
       "      <td>0.936940</td>\n",
       "      <td>1.975000</td>\n",
       "      <td>NaN</td>\n",
       "    </tr>\n",
       "    <tr>\n",
       "      <th>...</th>\n",
       "      <td>...</td>\n",
       "      <td>...</td>\n",
       "      <td>...</td>\n",
       "      <td>...</td>\n",
       "      <td>...</td>\n",
       "      <td>...</td>\n",
       "      <td>...</td>\n",
       "      <td>...</td>\n",
       "      <td>...</td>\n",
       "    </tr>\n",
       "    <tr>\n",
       "      <th>61</th>\n",
       "      <td>NaN</td>\n",
       "      <td>neut</td>\n",
       "      <td>Absent</td>\n",
       "      <td>3.5</td>\n",
       "      <td>32.097656</td>\n",
       "      <td>0.952000</td>\n",
       "      <td>0.939007</td>\n",
       "      <td>1.960547</td>\n",
       "      <td>NaN</td>\n",
       "    </tr>\n",
       "    <tr>\n",
       "      <th>62</th>\n",
       "      <td>NaN</td>\n",
       "      <td>neut</td>\n",
       "      <td>Present</td>\n",
       "      <td>3.5</td>\n",
       "      <td>31.093750</td>\n",
       "      <td>0.800000</td>\n",
       "      <td>1.068858</td>\n",
       "      <td>2.042187</td>\n",
       "      <td>NaN</td>\n",
       "    </tr>\n",
       "    <tr>\n",
       "      <th>63</th>\n",
       "      <td>280.0</td>\n",
       "      <td>dis</td>\n",
       "      <td>Present</td>\n",
       "      <td>3.5</td>\n",
       "      <td>31.583333</td>\n",
       "      <td>0.968421</td>\n",
       "      <td>0.978949</td>\n",
       "      <td>1.998438</td>\n",
       "      <td>NaN</td>\n",
       "    </tr>\n",
       "    <tr>\n",
       "      <th>64</th>\n",
       "      <td>NaN</td>\n",
       "      <td>neut</td>\n",
       "      <td>Absent</td>\n",
       "      <td>3.5</td>\n",
       "      <td>31.238281</td>\n",
       "      <td>0.984314</td>\n",
       "      <td>0.881029</td>\n",
       "      <td>2.029688</td>\n",
       "      <td>NaN</td>\n",
       "    </tr>\n",
       "    <tr>\n",
       "      <th>65</th>\n",
       "      <td>NaN</td>\n",
       "      <td>neut</td>\n",
       "      <td>Present</td>\n",
       "      <td>3.5</td>\n",
       "      <td>32.296875</td>\n",
       "      <td>1.000000</td>\n",
       "      <td>0.968454</td>\n",
       "      <td>2.028125</td>\n",
       "      <td>NaN</td>\n",
       "    </tr>\n",
       "  </tbody>\n",
       "</table>\n",
       "<p>66 rows × 9 columns</p>\n",
       "</div>"
      ],
      "text/plain": [
       "    subject trial_type dis_PresentorAbsent  block   trialNum  trialCorr?  \\\n",
       "0     256.0        dis             Present    3.5  31.750000    0.882353   \n",
       "1       NaN       neut              Absent    3.5  31.527344    0.948819   \n",
       "2       NaN       neut             Present    3.5  30.640625    0.887097   \n",
       "3     258.0        dis             Present    3.5  30.859375    0.984211   \n",
       "4       NaN       neut              Absent    3.5  32.707031    0.984375   \n",
       "..      ...        ...                 ...    ...        ...         ...   \n",
       "61      NaN       neut              Absent    3.5  32.097656    0.952000   \n",
       "62      NaN       neut             Present    3.5  31.093750    0.800000   \n",
       "63    280.0        dis             Present    3.5  31.583333    0.968421   \n",
       "64      NaN       neut              Absent    3.5  31.238281    0.984314   \n",
       "65      NaN       neut             Present    3.5  32.296875    1.000000   \n",
       "\n",
       "          RT       ITI  triggers  \n",
       "0   1.189781  2.037500       NaN  \n",
       "1   1.100014  2.046875       NaN  \n",
       "2   1.305057  2.014063       NaN  \n",
       "3   1.044318  1.972917       NaN  \n",
       "4   0.936940  1.975000       NaN  \n",
       "..       ...       ...       ...  \n",
       "61  0.939007  1.960547       NaN  \n",
       "62  1.068858  2.042187       NaN  \n",
       "63  0.978949  1.998438       NaN  \n",
       "64  0.881029  2.029688       NaN  \n",
       "65  0.968454  2.028125       NaN  \n",
       "\n",
       "[66 rows x 9 columns]"
      ]
     },
     "execution_count": 2,
     "metadata": {},
     "output_type": "execute_result"
    }
   ],
   "source": [
    "df = pd.read_csv('C:/Users/spens/Dropbox/My PC (DESKTOP-L1AE3RV)/Documents/University of Iowa/Research/Summer Project/Alpha Data Grouped.csv')\n",
    "df"
   ]
  },
  {
   "cell_type": "code",
   "execution_count": 3,
   "metadata": {},
   "outputs": [],
   "source": [
    "A = df.loc[(df['trial_type']=='neut') & \n",
    "(df['dis_PresentorAbsent']=='Present')]['RT']"
   ]
  },
  {
   "cell_type": "code",
   "execution_count": 4,
   "metadata": {},
   "outputs": [],
   "source": [
    "B = df.loc[(df['trial_type']=='neut') & \n",
    "(df['dis_PresentorAbsent']=='Absent')]['RT']"
   ]
  },
  {
   "cell_type": "code",
   "execution_count": 5,
   "metadata": {},
   "outputs": [
    {
     "data": {
      "text/plain": [
       "Ttest_relResult(statistic=5.14694514690416, pvalue=4.239901091979918e-05)"
      ]
     },
     "execution_count": 5,
     "metadata": {},
     "output_type": "execute_result"
    }
   ],
   "source": [
    "#Comparing distractor present to distractor absent in neutral trials (are subs captured by distractor?)\n",
    "ttest_rel(A,B)\n",
    "#22 subjects, three conditions per subject\n",
    "#p-value is 0.00004239...\n",
    "#t-test value is 5.1469\n",
    "#This means that ??\n",
    "#degrees of freedom: 21 (n-1, 22 total subjects)"
   ]
  },
  {
   "cell_type": "code",
   "execution_count": 6,
   "metadata": {},
   "outputs": [],
   "source": [
    "C = df.loc[(df['trial_type']=='dis') & \n",
    "(df['dis_PresentorAbsent']=='Present')]['RT']"
   ]
  },
  {
   "cell_type": "code",
   "execution_count": 7,
   "metadata": {},
   "outputs": [],
   "source": [
    "D = df.loc[(df['trial_type']=='neut') & \n",
    "(df['dis_PresentorAbsent']=='Present')]['RT']"
   ]
  },
  {
   "cell_type": "code",
   "execution_count": 8,
   "metadata": {},
   "outputs": [
    {
     "data": {
      "text/plain": [
       "Ttest_relResult(statistic=-0.28237245884807977, pvalue=0.7804222459619161)"
      ]
     },
     "execution_count": 8,
     "metadata": {},
     "output_type": "execute_result"
    }
   ],
   "source": [
    "#Comparing distractor cue to distractor present (can subs use cue?)\n",
    "ttest_rel(C,D)"
   ]
  }
 ],
 "metadata": {
  "kernelspec": {
   "display_name": "Python 3",
   "language": "python",
   "name": "python3"
  },
  "language_info": {
   "codemirror_mode": {
    "name": "ipython",
    "version": 3
   },
   "file_extension": ".py",
   "mimetype": "text/x-python",
   "name": "python",
   "nbconvert_exporter": "python",
   "pygments_lexer": "ipython3",
   "version": "3.8.3"
  }
 },
 "nbformat": 4,
 "nbformat_minor": 4
}
